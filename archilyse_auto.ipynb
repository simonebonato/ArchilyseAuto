{
 "cells": [
  {
   "cell_type": "markdown",
   "metadata": {},
   "source": [
    "### How to set up this notebook\n",
    "\n",
    "In order to use this code, first need to follow the instructions at this [link](https://www.notion.so/Archilyse-fdf94f54e9be42f9a68f1609b9ad0ba9) in the section `21.08.2024`."
   ]
  },
  {
   "cell_type": "code",
   "execution_count": null,
   "metadata": {},
   "outputs": [],
   "source": [
    "%%capture\n",
    "# for the moment only for this notebook\n",
    "!git clone https://github.com/facebookresearch/detectron2.git /ifc_dl/submodules/detectron2\n",
    "%conda install shapely scikit-image -y"
   ]
  },
  {
   "cell_type": "markdown",
   "metadata": {},
   "source": [
    "Then run this from the CLI:\n",
    "\n",
    "```\n",
    "python -m pip install submodules/detectron2 -f https://dl.fbaipublicfiles.com/detectron2/wheels/cpu/torch1.9/index.html\n",
    "```\n",
    "\n",
    "and restart the kernel 🫡"
   ]
  },
  {
   "cell_type": "code",
   "execution_count": null,
   "metadata": {},
   "outputs": [],
   "source": [
    "%load_ext autoreload\n",
    "%autoreload 2\n",
    "\n",
    "import sys\n",
    "from pathlib import Path\n",
    "\n",
    "import matplotlib.pyplot as plt\n",
    "import numpy as np\n",
    "from nb_utils.archilyse_auto_utils import plot_predictions\n",
    "from nb_utils.utils import EcoDatasetTiled512, rmtree\n",
    "from pdf2image import convert_from_path\n",
    "from PIL import Image\n",
    "from tqdm import tqdm\n",
    "\n",
    "BASE_FOLDER = Path(\"/Users/simone.bonato/Desktop/ecolution/IFC_DL\")\n",
    "\n",
    "archylise_path = BASE_FOLDER / \"submodules/ArchilyseAuto\"\n",
    "sys.path.append(str(archylise_path))\n",
    "\n",
    "from predictors.predictors.floorplans import FloorplanPredictor\n",
    "from predictors.predictors.icons import IconPredictor\n",
    "\n",
    "# from predictors.predictors.roi import RoiPredictor\n",
    "from predictors.predictors.spaces import SpacePredictor\n",
    "from predictors.predictors.walls import WallPredictor"
   ]
  },
  {
   "cell_type": "markdown",
   "metadata": {},
   "source": [
    "### Loading the models"
   ]
  },
  {
   "cell_type": "code",
   "execution_count": null,
   "metadata": {},
   "outputs": [],
   "source": [
    "%%capture\n",
    "resources_path = archylise_path / \"resources\"\n",
    "\n",
    "wall_predictor = WallPredictor(str(resources_path / \"walls_model_latest.pth\"))\n",
    "space_predictor = SpacePredictor(str(resources_path / \"spaces_model_final.pth\"))\n",
    "\n",
    "icon_pred_version = 2  # 1 or 2\n",
    "\n",
    "version_str = \"\" if icon_pred_version == 1 else \"_2\"\n",
    "icon_weights_path = str(resources_path / (\"icons_model_final\" + version_str)) + \".pth\"\n",
    "icon_predictor = IconPredictor(icon_pred_version, icon_weights_path)"
   ]
  },
  {
   "cell_type": "markdown",
   "metadata": {},
   "source": [
    "### Load an image"
   ]
  },
  {
   "cell_type": "code",
   "execution_count": null,
   "metadata": {},
   "outputs": [],
   "source": [
    "image_path = BASE_FOLDER / \"data/cubicasa5k/high_quality/33/F1_scaled.png\"\n",
    "image = Image.open(image_path).convert(\"RGB\")\n",
    "\n",
    "# plot the img\n",
    "plt.figure(figsize=(5, 5))\n",
    "plt.imshow(image)\n",
    "plt.axis(\"off\")\n",
    "plt.show()\n",
    "\n",
    "image = np.array(image)"
   ]
  },
  {
   "cell_type": "markdown",
   "metadata": {},
   "source": [
    "### Wall prediction"
   ]
  },
  {
   "cell_type": "code",
   "execution_count": null,
   "metadata": {},
   "outputs": [],
   "source": [
    "# import the FloorplanPredictor\n",
    "\n",
    "# code to make a prediction with the WallPredictor (with the other models its the same, simply change the predictor you are using)\n",
    "# you can now define several ROIs ---> List[(x_min, y_min, x_max_y_max)]\n",
    "# to find the ROIs, either you have to do it manually, or you need to train a model to find them for you. We put the whole image for the moment.\n",
    "# lastly, choose the pixels_per_meter, this is not mandatory and if you do not set this one the model will use 40 by default\n",
    "wall_predictions = FloorplanPredictor.predict(\n",
    "    wall_predictor, image, roi=[(0, 0, image.shape[1], image.shape[0])], pixels_per_meter=35\n",
    ")"
   ]
  },
  {
   "cell_type": "code",
   "execution_count": null,
   "metadata": {},
   "outputs": [],
   "source": [
    "print(f\"The class labels are: {set(wall_predictions[0])}\")\n",
    "plot_predictions(image, wall_predictions, \"Wall predictions\")"
   ]
  },
  {
   "cell_type": "markdown",
   "metadata": {},
   "source": [
    "### Space prediction"
   ]
  },
  {
   "cell_type": "code",
   "execution_count": null,
   "metadata": {},
   "outputs": [],
   "source": [
    "space_predictions = space_predictor.predict(image)"
   ]
  },
  {
   "cell_type": "code",
   "execution_count": null,
   "metadata": {},
   "outputs": [],
   "source": [
    "print(f\"The class labels are: {set(space_predictions[0])}\")\n",
    "plot_predictions(image, space_predictions, \"Space predictions\")"
   ]
  },
  {
   "cell_type": "markdown",
   "metadata": {},
   "source": [
    "### Icons prediction"
   ]
  },
  {
   "cell_type": "code",
   "execution_count": null,
   "metadata": {},
   "outputs": [],
   "source": [
    "icon_predictions = icon_predictor.predict(image)"
   ]
  },
  {
   "cell_type": "code",
   "execution_count": null,
   "metadata": {},
   "outputs": [],
   "source": [
    "print(f\"The class labels are: {set(icon_predictions[0])}\")\n",
    "plot_predictions(image, icon_predictions, \"Icons predictions\")"
   ]
  },
  {
   "cell_type": "markdown",
   "metadata": {},
   "source": [
    "## Predictions on Ecolution data\n",
    "\n",
    "The images are of the floorplans, since the models used them."
   ]
  },
  {
   "cell_type": "code",
   "execution_count": null,
   "metadata": {},
   "outputs": [],
   "source": [
    "ecolution_data_path = BASE_FOLDER / \"data/ecolution\"\n",
    "\n",
    "\n",
    "floorplan1_path = (\n",
    "    ecolution_data_path\n",
    "    / \"single-family-house/baeumliweg_0_5325_leibstadt/raw/floorplan/0.pdf\"\n",
    ")\n",
    "\n",
    "floorplan1 = convert_from_path(floorplan1_path, dpi=50)[0]\n",
    "floorplan1_array = np.array(floorplan1)"
   ]
  },
  {
   "cell_type": "code",
   "execution_count": null,
   "metadata": {},
   "outputs": [],
   "source": [
    "# get all the predictions\n",
    "wall_predictions = wall_predictor.predict(floorplan1_array)\n",
    "space_predictions = space_predictor.predict(floorplan1_array)\n",
    "icon_predictions = icon_predictor.predict(floorplan1_array)\n",
    "\n",
    "# plot all the predictions\n",
    "plot_predictions(floorplan1_array, wall_predictions, \"Wall predictions\")\n",
    "plot_predictions(floorplan1_array, space_predictions, \"Space predictions\")\n",
    "plot_predictions(floorplan1_array, icon_predictions, \"Icons predictions\")"
   ]
  },
  {
   "cell_type": "code",
   "execution_count": null,
   "metadata": {},
   "outputs": [],
   "source": [
    "%%capture\n",
    "%pip install fpdf"
   ]
  },
  {
   "cell_type": "code",
   "execution_count": null,
   "metadata": {},
   "outputs": [],
   "source": [
    "building_prototype_path = BASE_FOLDER / \"data/building_prototypes\"\n",
    "cropped_paths = list(building_prototype_path.glob(\"**/**/*crop*\"))\n",
    "cropped_512 = EcoDatasetTiled512(cropped_paths)"
   ]
  },
  {
   "cell_type": "code",
   "execution_count": null,
   "metadata": {},
   "outputs": [],
   "source": [
    "# preds on the prototype images\n",
    "from pathlib import Path\n",
    "\n",
    "from fpdf import FPDF\n",
    "\n",
    "# create the pdf\n",
    "pdf = FPDF()\n",
    "pdf.set_auto_page_break(auto=True, margin=5)\n",
    "page_width = pdf.w - 5\n",
    "\n",
    "figsize = (13, 5)\n",
    "\n",
    "# create a tmp folder to store the plots\n",
    "tmp_folder = Path(\"/ifc_dl/notebooks/tmp\")\n",
    "tmp_folder.mkdir(exist_ok=True)\n",
    "\n",
    "tqdm_bar = tqdm(cropped_512)\n",
    "for all_tiles, floorplan_path in tqdm_bar:\n",
    "    for i, tile in enumerate(all_tiles):\n",
    "        floorplan_array = (tile.permute(1, 2, 0).numpy() * 255).astype(np.uint8)\n",
    "        pdf.add_page()\n",
    "        pdf.set_font(\"Arial\", style=\"B\", size=16)\n",
    "        pdf.cell(\n",
    "            200,\n",
    "            10,\n",
    "            txt=f\"Folder: {str(floorplan_path).encode('latin-1', 'replace').decode('latin-1')}\",\n",
    "            ln=True,\n",
    "            align=\"C\",\n",
    "        )\n",
    "        pdf.set_font(\"Arial\", size=8)\n",
    "        pdf.cell(\n",
    "            200,\n",
    "            10,\n",
    "            txt=f\"Floorplan: {str(floorplan_path).encode('latin-1', 'replace').decode('latin-1')}\",\n",
    "            ln=True,\n",
    "            align=\"C\",\n",
    "        )\n",
    "\n",
    "        # ####### wall preds #######\n",
    "        wall_predictions = wall_predictor.predict(floorplan_array)\n",
    "        plot_buf1 = plot_predictions(\n",
    "            floorplan_array,\n",
    "            wall_predictions,\n",
    "            \"Wall predictions\",\n",
    "            show=False,\n",
    "            figsize=figsize,\n",
    "            buffer=True,\n",
    "        )\n",
    "        tmp_path = tmp_folder / f\"{floorplan_path}_{i}_wall_predictions.png\"\n",
    "        Image.open(plot_buf1).save(tmp_path)\n",
    "        pdf.image(str(tmp_path), x=0, y=30, w=page_width)\n",
    "\n",
    "        # ####### space preds #######\n",
    "        space_predictions = space_predictor.predict(floorplan_array)\n",
    "        plot_buf2 = plot_predictions(\n",
    "            floorplan_array,\n",
    "            space_predictions,\n",
    "            \"Space predictions\",\n",
    "            show=False,\n",
    "            figsize=figsize,\n",
    "            buffer=True,\n",
    "        )\n",
    "\n",
    "        tmp_path = tmp_folder / f\"{floorplan_path}_{i}_space_predictions.png\"\n",
    "        Image.open(plot_buf2).save(tmp_path)\n",
    "        pdf.image(str(tmp_path), x=0, y=120, w=page_width)\n",
    "\n",
    "        # ####### icon preds #######\n",
    "        icon_predictions = icon_predictor.predict(floorplan_array)\n",
    "        plot_buf3 = plot_predictions(\n",
    "            floorplan_array,\n",
    "            icon_predictions,\n",
    "            \"Icons predictions\",\n",
    "            show=False,\n",
    "            figsize=figsize,\n",
    "            buffer=True,\n",
    "        )\n",
    "\n",
    "        tmp_path = tmp_folder / f\"{floorplan_path}_{i}_icon_predictions.png\"\n",
    "        Image.open(plot_buf3).save(tmp_path)\n",
    "        pdf.image(str(tmp_path), x=0, y=210, w=page_width)\n",
    "\n",
    "\n",
    "pdf.output(\"/ifc_dl/notebooks/floorplans.pdf\", \"F\")\n",
    "rmtree(tmp_folder)\n"
   ]
  }
 ],
 "metadata": {
  "kernelspec": {
   "display_name": "eco",
   "language": "python",
   "name": "python3"
  },
  "language_info": {
   "codemirror_mode": {
    "name": "ipython",
    "version": 3
   },
   "file_extension": ".py",
   "mimetype": "text/x-python",
   "name": "python",
   "nbconvert_exporter": "python",
   "pygments_lexer": "ipython3",
   "version": "3.11.9"
  }
 },
 "nbformat": 4,
 "nbformat_minor": 2
}
